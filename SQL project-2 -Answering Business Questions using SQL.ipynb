{
 "cells": [
  {
   "cell_type": "markdown",
   "metadata": {},
   "source": [
    "## SQL Project: Answering Business Questions  \n",
    "\n",
    "### 1. Introduction and Schema Diagram\n",
    "\n",
    "In this project, we are using the Chinook database,  is provided as a SQLite database file called `chinook.db`. A copy of the database schema is below."
   ]
  },
  {
   "cell_type": "markdown",
   "metadata": {},
   "source": [
    "![chinook.db](https://s3.amazonaws.com/dq-content/191/chinook-schema.svg)"
   ]
  },
  {
   "cell_type": "markdown",
   "metadata": {},
   "source": [
    "We are going to use SQL queries to analyse the following: \n",
    "\n",
    "* The best selling genre in USA\n",
    "* Performance of the sales representative \n",
    "* Sales by country\n",
    "* Purchase of albums vs purchase of individual tracks\n",
    "* Which artist is used in the most playlists?\n",
    "* How many tracks have been purchased vs not purchased?\n",
    "* Is the range of tracks in the store reflective of their sales popularity?\n",
    "* Do protected vs non-protected media types have an effect on popularity?"
   ]
  },
  {
   "cell_type": "markdown",
   "metadata": {},
   "source": [
    "Let's connect Jupyter Notebook to the database file and get started with our analysis."
   ]
  },
  {
   "cell_type": "code",
   "execution_count": 4,
   "metadata": {
    "collapsed": false
   },
   "outputs": [
    {
     "data": {
      "text/plain": [
       "'Connected: None@chinook.db'"
      ]
     },
     "execution_count": 4,
     "metadata": {},
     "output_type": "execute_result"
    }
   ],
   "source": [
    "%%capture\n",
    "%load_ext sql\n",
    "%sql sqlite:///chinook.db"
   ]
  },
  {
   "cell_type": "markdown",
   "metadata": {},
   "source": [
    "### List of  tables and views in the database"
   ]
  },
  {
   "cell_type": "code",
   "execution_count": 5,
   "metadata": {
    "collapsed": false
   },
   "outputs": [
    {
     "name": "stdout",
     "output_type": "stream",
     "text": [
      "Done.\n"
     ]
    },
    {
     "data": {
      "text/html": [
       "<table>\n",
       "    <tr>\n",
       "        <th>name</th>\n",
       "        <th>type</th>\n",
       "    </tr>\n",
       "    <tr>\n",
       "        <td>album</td>\n",
       "        <td>table</td>\n",
       "    </tr>\n",
       "    <tr>\n",
       "        <td>artist</td>\n",
       "        <td>table</td>\n",
       "    </tr>\n",
       "    <tr>\n",
       "        <td>customer</td>\n",
       "        <td>table</td>\n",
       "    </tr>\n",
       "    <tr>\n",
       "        <td>employee</td>\n",
       "        <td>table</td>\n",
       "    </tr>\n",
       "    <tr>\n",
       "        <td>genre</td>\n",
       "        <td>table</td>\n",
       "    </tr>\n",
       "    <tr>\n",
       "        <td>invoice</td>\n",
       "        <td>table</td>\n",
       "    </tr>\n",
       "    <tr>\n",
       "        <td>invoice_line</td>\n",
       "        <td>table</td>\n",
       "    </tr>\n",
       "    <tr>\n",
       "        <td>media_type</td>\n",
       "        <td>table</td>\n",
       "    </tr>\n",
       "    <tr>\n",
       "        <td>playlist</td>\n",
       "        <td>table</td>\n",
       "    </tr>\n",
       "    <tr>\n",
       "        <td>playlist_track</td>\n",
       "        <td>table</td>\n",
       "    </tr>\n",
       "    <tr>\n",
       "        <td>track</td>\n",
       "        <td>table</td>\n",
       "    </tr>\n",
       "</table>"
      ],
      "text/plain": [
       "[('album', 'table'),\n",
       " ('artist', 'table'),\n",
       " ('customer', 'table'),\n",
       " ('employee', 'table'),\n",
       " ('genre', 'table'),\n",
       " ('invoice', 'table'),\n",
       " ('invoice_line', 'table'),\n",
       " ('media_type', 'table'),\n",
       " ('playlist', 'table'),\n",
       " ('playlist_track', 'table'),\n",
       " ('track', 'table')]"
      ]
     },
     "execution_count": 5,
     "metadata": {},
     "output_type": "execute_result"
    }
   ],
   "source": [
    "%%sql\n",
    "SELECT\n",
    "    name,\n",
    "    type\n",
    "FROM sqlite_master\n",
    "WHERE type IN (\"table\",\"view\");"
   ]
  },
  {
   "cell_type": "markdown",
   "metadata": {},
   "source": [
    "### Recognizing the database"
   ]
  },
  {
   "cell_type": "code",
   "execution_count": 6,
   "metadata": {
    "collapsed": false
   },
   "outputs": [
    {
     "name": "stdout",
     "output_type": "stream",
     "text": [
      "Done.\n"
     ]
    },
    {
     "data": {
      "text/html": [
       "<table>\n",
       "    <tr>\n",
       "        <th>media_type_id</th>\n",
       "        <th>name</th>\n",
       "    </tr>\n",
       "    <tr>\n",
       "        <td>2</td>\n",
       "        <td>Protected AAC audio file</td>\n",
       "    </tr>\n",
       "    <tr>\n",
       "        <td>3</td>\n",
       "        <td>Protected MPEG-4 video file</td>\n",
       "    </tr>\n",
       "</table>"
      ],
      "text/plain": [
       "[(2, 'Protected AAC audio file'), (3, 'Protected MPEG-4 video file')]"
      ]
     },
     "execution_count": 6,
     "metadata": {},
     "output_type": "execute_result"
    }
   ],
   "source": [
    "%%sql\n",
    "SELECT DISTINCT *\n",
    "FROM media_type\n",
    "WHERE name LIKE '%protected%'"
   ]
  },
  {
   "cell_type": "code",
   "execution_count": 7,
   "metadata": {
    "collapsed": false
   },
   "outputs": [
    {
     "name": "stdout",
     "output_type": "stream",
     "text": [
      "Done.\n"
     ]
    },
    {
     "data": {
      "text/html": [
       "<table>\n",
       "    <tr>\n",
       "        <th>country</th>\n",
       "        <th>Number _of_customers</th>\n",
       "    </tr>\n",
       "    <tr>\n",
       "        <td>Argentina</td>\n",
       "        <td>1</td>\n",
       "    </tr>\n",
       "    <tr>\n",
       "        <td>Australia</td>\n",
       "        <td>1</td>\n",
       "    </tr>\n",
       "    <tr>\n",
       "        <td>Austria</td>\n",
       "        <td>1</td>\n",
       "    </tr>\n",
       "    <tr>\n",
       "        <td>Belgium</td>\n",
       "        <td>1</td>\n",
       "    </tr>\n",
       "    <tr>\n",
       "        <td>Brazil</td>\n",
       "        <td>5</td>\n",
       "    </tr>\n",
       "    <tr>\n",
       "        <td>Canada</td>\n",
       "        <td>8</td>\n",
       "    </tr>\n",
       "    <tr>\n",
       "        <td>Chile</td>\n",
       "        <td>1</td>\n",
       "    </tr>\n",
       "    <tr>\n",
       "        <td>Czech Republic</td>\n",
       "        <td>2</td>\n",
       "    </tr>\n",
       "    <tr>\n",
       "        <td>Denmark</td>\n",
       "        <td>1</td>\n",
       "    </tr>\n",
       "    <tr>\n",
       "        <td>Finland</td>\n",
       "        <td>1</td>\n",
       "    </tr>\n",
       "    <tr>\n",
       "        <td>France</td>\n",
       "        <td>5</td>\n",
       "    </tr>\n",
       "    <tr>\n",
       "        <td>Germany</td>\n",
       "        <td>4</td>\n",
       "    </tr>\n",
       "    <tr>\n",
       "        <td>Hungary</td>\n",
       "        <td>1</td>\n",
       "    </tr>\n",
       "    <tr>\n",
       "        <td>India</td>\n",
       "        <td>2</td>\n",
       "    </tr>\n",
       "    <tr>\n",
       "        <td>Ireland</td>\n",
       "        <td>1</td>\n",
       "    </tr>\n",
       "    <tr>\n",
       "        <td>Italy</td>\n",
       "        <td>1</td>\n",
       "    </tr>\n",
       "    <tr>\n",
       "        <td>Netherlands</td>\n",
       "        <td>1</td>\n",
       "    </tr>\n",
       "    <tr>\n",
       "        <td>Norway</td>\n",
       "        <td>1</td>\n",
       "    </tr>\n",
       "    <tr>\n",
       "        <td>Poland</td>\n",
       "        <td>1</td>\n",
       "    </tr>\n",
       "    <tr>\n",
       "        <td>Portugal</td>\n",
       "        <td>2</td>\n",
       "    </tr>\n",
       "    <tr>\n",
       "        <td>Spain</td>\n",
       "        <td>1</td>\n",
       "    </tr>\n",
       "    <tr>\n",
       "        <td>Sweden</td>\n",
       "        <td>1</td>\n",
       "    </tr>\n",
       "    <tr>\n",
       "        <td>USA</td>\n",
       "        <td>13</td>\n",
       "    </tr>\n",
       "    <tr>\n",
       "        <td>United Kingdom</td>\n",
       "        <td>3</td>\n",
       "    </tr>\n",
       "</table>"
      ],
      "text/plain": [
       "[('Argentina', 1),\n",
       " ('Australia', 1),\n",
       " ('Austria', 1),\n",
       " ('Belgium', 1),\n",
       " ('Brazil', 5),\n",
       " ('Canada', 8),\n",
       " ('Chile', 1),\n",
       " ('Czech Republic', 2),\n",
       " ('Denmark', 1),\n",
       " ('Finland', 1),\n",
       " ('France', 5),\n",
       " ('Germany', 4),\n",
       " ('Hungary', 1),\n",
       " ('India', 2),\n",
       " ('Ireland', 1),\n",
       " ('Italy', 1),\n",
       " ('Netherlands', 1),\n",
       " ('Norway', 1),\n",
       " ('Poland', 1),\n",
       " ('Portugal', 2),\n",
       " ('Spain', 1),\n",
       " ('Sweden', 1),\n",
       " ('USA', 13),\n",
       " ('United Kingdom', 3)]"
      ]
     },
     "execution_count": 7,
     "metadata": {},
     "output_type": "execute_result"
    }
   ],
   "source": [
    "%%sql\n",
    "SELECT c.country,COUNT(*) AS 'Number _of_customers'\n",
    "FROM customer AS c\n",
    "GROUP BY c.country"
   ]
  },
  {
   "cell_type": "code",
   "execution_count": 8,
   "metadata": {
    "collapsed": false
   },
   "outputs": [
    {
     "name": "stdout",
     "output_type": "stream",
     "text": [
      "Done.\n"
     ]
    },
    {
     "data": {
      "text/html": [
       "<table>\n",
       "    <tr>\n",
       "        <th>customers_from_India</th>\n",
       "    </tr>\n",
       "    <tr>\n",
       "        <td>Manoj Pareek</td>\n",
       "    </tr>\n",
       "    <tr>\n",
       "        <td>Puja Srivastava</td>\n",
       "    </tr>\n",
       "</table>"
      ],
      "text/plain": [
       "[('Manoj Pareek',), ('Puja Srivastava',)]"
      ]
     },
     "execution_count": 8,
     "metadata": {},
     "output_type": "execute_result"
    }
   ],
   "source": [
    "%%sql\n",
    "SELECT c.first_name||' '||c.last_name AS 'customers_from_India'\n",
    "FROM customer AS c\n",
    "WHERE c.country='India'"
   ]
  },
  {
   "cell_type": "code",
   "execution_count": 9,
   "metadata": {
    "collapsed": false
   },
   "outputs": [
    {
     "name": "stdout",
     "output_type": "stream",
     "text": [
      "Done.\n"
     ]
    },
    {
     "data": {
      "text/html": [
       "<table>\n",
       "    <tr>\n",
       "        <th>quantity</th>\n",
       "    </tr>\n",
       "    <tr>\n",
       "        <td>1</td>\n",
       "    </tr>\n",
       "</table>"
      ],
      "text/plain": [
       "[(1,)]"
      ]
     },
     "execution_count": 9,
     "metadata": {},
     "output_type": "execute_result"
    }
   ],
   "source": [
    "%%sql\n",
    "SELECT DISTINCT quantity\n",
    "FROM invoice_line"
   ]
  },
  {
   "cell_type": "markdown",
   "metadata": {},
   "source": [
    "###  Genre and number of tracks sold in USA\n",
    "\n",
    "The Chinook record store has just signed a deal with a new record label, and you've been tasked with selecting the first three albums that will be added to the store, from a list of four. All four albums are by artists that don't have any tracks in the store right now - we have the artist names, and the genre of music they produce. \n",
    "\n",
    "Let's query out which genres sell the best in the USA.\n"
   ]
  },
  {
   "cell_type": "code",
   "execution_count": 10,
   "metadata": {
    "collapsed": false
   },
   "outputs": [
    {
     "name": "stdout",
     "output_type": "stream",
     "text": [
      "Done.\n"
     ]
    },
    {
     "data": {
      "text/html": [
       "<table>\n",
       "    <tr>\n",
       "        <th>genre_name</th>\n",
       "        <th>sold_in_usa</th>\n",
       "        <th>percentage</th>\n",
       "    </tr>\n",
       "    <tr>\n",
       "        <td>Rock</td>\n",
       "        <td>561</td>\n",
       "        <td>53.38</td>\n",
       "    </tr>\n",
       "    <tr>\n",
       "        <td>Alternative &amp; Punk</td>\n",
       "        <td>130</td>\n",
       "        <td>12.37</td>\n",
       "    </tr>\n",
       "    <tr>\n",
       "        <td>Metal</td>\n",
       "        <td>124</td>\n",
       "        <td>11.8</td>\n",
       "    </tr>\n",
       "    <tr>\n",
       "        <td>R&amp;B/Soul</td>\n",
       "        <td>53</td>\n",
       "        <td>5.04</td>\n",
       "    </tr>\n",
       "    <tr>\n",
       "        <td>Blues</td>\n",
       "        <td>36</td>\n",
       "        <td>3.43</td>\n",
       "    </tr>\n",
       "    <tr>\n",
       "        <td>Alternative</td>\n",
       "        <td>35</td>\n",
       "        <td>3.33</td>\n",
       "    </tr>\n",
       "    <tr>\n",
       "        <td>Latin</td>\n",
       "        <td>22</td>\n",
       "        <td>2.09</td>\n",
       "    </tr>\n",
       "    <tr>\n",
       "        <td>Pop</td>\n",
       "        <td>22</td>\n",
       "        <td>2.09</td>\n",
       "    </tr>\n",
       "    <tr>\n",
       "        <td>Hip Hop/Rap</td>\n",
       "        <td>20</td>\n",
       "        <td>1.9</td>\n",
       "    </tr>\n",
       "    <tr>\n",
       "        <td>Jazz</td>\n",
       "        <td>14</td>\n",
       "        <td>1.33</td>\n",
       "    </tr>\n",
       "    <tr>\n",
       "        <td>Easy Listening</td>\n",
       "        <td>13</td>\n",
       "        <td>1.24</td>\n",
       "    </tr>\n",
       "    <tr>\n",
       "        <td>Reggae</td>\n",
       "        <td>6</td>\n",
       "        <td>0.57</td>\n",
       "    </tr>\n",
       "    <tr>\n",
       "        <td>Electronica/Dance</td>\n",
       "        <td>5</td>\n",
       "        <td>0.48</td>\n",
       "    </tr>\n",
       "    <tr>\n",
       "        <td>Classical</td>\n",
       "        <td>4</td>\n",
       "        <td>0.38</td>\n",
       "    </tr>\n",
       "    <tr>\n",
       "        <td>Heavy Metal</td>\n",
       "        <td>3</td>\n",
       "        <td>0.29</td>\n",
       "    </tr>\n",
       "    <tr>\n",
       "        <td>Soundtrack</td>\n",
       "        <td>2</td>\n",
       "        <td>0.19</td>\n",
       "    </tr>\n",
       "    <tr>\n",
       "        <td>TV Shows</td>\n",
       "        <td>1</td>\n",
       "        <td>0.1</td>\n",
       "    </tr>\n",
       "</table>"
      ],
      "text/plain": [
       "[('Rock', 561, 53.38),\n",
       " ('Alternative & Punk', 130, 12.37),\n",
       " ('Metal', 124, 11.8),\n",
       " ('R&B/Soul', 53, 5.04),\n",
       " ('Blues', 36, 3.43),\n",
       " ('Alternative', 35, 3.33),\n",
       " ('Latin', 22, 2.09),\n",
       " ('Pop', 22, 2.09),\n",
       " ('Hip Hop/Rap', 20, 1.9),\n",
       " ('Jazz', 14, 1.33),\n",
       " ('Easy Listening', 13, 1.24),\n",
       " ('Reggae', 6, 0.57),\n",
       " ('Electronica/Dance', 5, 0.48),\n",
       " ('Classical', 4, 0.38),\n",
       " ('Heavy Metal', 3, 0.29),\n",
       " ('Soundtrack', 2, 0.19),\n",
       " ('TV Shows', 1, 0.1)]"
      ]
     },
     "execution_count": 10,
     "metadata": {},
     "output_type": "execute_result"
    }
   ],
   "source": [
    "%%sql\n",
    "WITH \n",
    "    invoice_usa AS \n",
    "    ( SELECT c.country,i.customer_id,i.invoice_id\n",
    "      FROM customer AS c\n",
    "      INNER JOIN invoice AS i\n",
    "      ON c.customer_id=i.customer_id\n",
    "      WHERE c.country=\"USA\" \n",
    "    ),\n",
    "    invoice_line_usa AS\n",
    "    ( SELECT iu.country,il.*\n",
    "      FROM invoice_usa AS iu\n",
    "      INNER JOIN invoice_line AS il\n",
    "      ON iu.invoice_id=il.invoice_id\n",
    "    ),\n",
    "    track_usa AS\n",
    "    ( SELECT t.track_id,t.genre_id\n",
    "     FROM invoice_line_usa AS ilu\n",
    "     INNER JOIN track AS t\n",
    "     ON ilu.track_id=t.track_id\n",
    "    ),\n",
    "    genre_usa AS\n",
    "    ( SELECT *\n",
    "     FROM track_usa AS tu\n",
    "     INNER JOIN genre AS g\n",
    "     ON tu.genre_id=g.genre_id\n",
    "    )\n",
    "\n",
    " \n",
    "SELECT name AS 'genre_name',\n",
    "       COUNT(name) AS 'sold_in_usa',\n",
    "       ROUND(COUNT(name)*100.0/(SELECT COUNT(*) FROM genre_usa),2) AS 'percentage'\n",
    "FROM genre_usa AS gu\n",
    "GROUP BY gu.genre_id\n",
    "ORDER BY 2 DESC;\n"
   ]
  },
  {
   "cell_type": "markdown",
   "metadata": {},
   "source": [
    "## As the above query suggests\n",
    "Top 3 genres sold in the USA are\n",
    "\n",
    "* Rock\n",
    "* Alternative & Punk\n",
    "* Metal\n",
    "\n",
    "And they make up nearly 78% of all sales.\n",
    "\n"
   ]
  },
  {
   "cell_type": "markdown",
   "metadata": {},
   "source": [
    "### Analyzing performance of Sales Agents"
   ]
  },
  {
   "cell_type": "code",
   "execution_count": 11,
   "metadata": {
    "collapsed": false
   },
   "outputs": [
    {
     "name": "stdout",
     "output_type": "stream",
     "text": [
      "Done.\n"
     ]
    },
    {
     "data": {
      "text/html": [
       "<table>\n",
       "    <tr>\n",
       "        <th>name</th>\n",
       "        <th>birthdate</th>\n",
       "        <th>hire_date</th>\n",
       "        <th>Total Sales</th>\n",
       "    </tr>\n",
       "    <tr>\n",
       "        <td>Jane Peacock</td>\n",
       "        <td>1973-08-29 00:00:00</td>\n",
       "        <td>2017-04-01 00:00:00</td>\n",
       "        <td>1731.51</td>\n",
       "    </tr>\n",
       "    <tr>\n",
       "        <td>Margaret Park</td>\n",
       "        <td>1947-09-19 00:00:00</td>\n",
       "        <td>2017-05-03 00:00:00</td>\n",
       "        <td>1584.0</td>\n",
       "    </tr>\n",
       "    <tr>\n",
       "        <td>Steve Johnson</td>\n",
       "        <td>1965-03-03 00:00:00</td>\n",
       "        <td>2017-10-17 00:00:00</td>\n",
       "        <td>1393.92</td>\n",
       "    </tr>\n",
       "</table>"
      ],
      "text/plain": [
       "[('Jane Peacock', '1973-08-29 00:00:00', '2017-04-01 00:00:00', 1731.51),\n",
       " ('Margaret Park', '1947-09-19 00:00:00', '2017-05-03 00:00:00', 1584.0),\n",
       " ('Steve Johnson', '1965-03-03 00:00:00', '2017-10-17 00:00:00', 1393.92)]"
      ]
     },
     "execution_count": 11,
     "metadata": {},
     "output_type": "execute_result"
    }
   ],
   "source": [
    "%%sql\n",
    "WITH \n",
    "    sales_agent AS\n",
    "        (\n",
    "            SELECT *\n",
    "        FROM employee AS e\n",
    "        WHERE e.title='Sales Support Agent'\n",
    "        ),\n",
    "     sales_agent_sales AS\n",
    "        ( SELECT sa.*,c.customer_id\n",
    "          FROM sales_agent AS sa\n",
    "          INNER JOIN customer AS c\n",
    "          ON sa.employee_id=c.support_rep_id\n",
    "        ),\n",
    "    sales_agent_invoices AS\n",
    "        (\n",
    "            SELECT sas.*,i.invoice_id,i.total\n",
    "            FROM sales_agent_sales AS sas\n",
    "            INNER JOIN invoice AS i\n",
    "            ON sas.customer_id=i.customer_id\n",
    "        )\n",
    "\n",
    "SELECT first_name||' '||last_name AS 'name',\n",
    "       birthdate,\n",
    "       hire_date, \n",
    "       ROUND(SUM(total),2) AS 'Total Sales'\n",
    "FROM sales_agent_invoices\n",
    "GROUP BY employee_id"
   ]
  },
  {
   "cell_type": "markdown",
   "metadata": {},
   "source": [
    "#### In the above query, we look into total sales of each  support agent.\n",
    "As expected the sales amount is strongly correlated to the hire date of each agent."
   ]
  },
  {
   "cell_type": "markdown",
   "metadata": {},
   "source": [
    "###  Analyzing Sales by Country"
   ]
  },
  {
   "cell_type": "code",
   "execution_count": 17,
   "metadata": {
    "collapsed": false
   },
   "outputs": [
    {
     "name": "stdout",
     "output_type": "stream",
     "text": [
      "Done.\n"
     ]
    },
    {
     "data": {
      "text/html": [
       "<table>\n",
       "    <tr>\n",
       "        <th>country</th>\n",
       "        <th>number_of_customers</th>\n",
       "        <th>total_sales</th>\n",
       "        <th>avg_sale_per_customer</th>\n",
       "        <th>avg_order_value</th>\n",
       "    </tr>\n",
       "    <tr>\n",
       "        <td>USA</td>\n",
       "        <td>13</td>\n",
       "        <td>1040.49</td>\n",
       "        <td>80.04</td>\n",
       "        <td>7.94</td>\n",
       "    </tr>\n",
       "    <tr>\n",
       "        <td>Canada</td>\n",
       "        <td>8</td>\n",
       "        <td>535.59</td>\n",
       "        <td>66.95</td>\n",
       "        <td>7.05</td>\n",
       "    </tr>\n",
       "    <tr>\n",
       "        <td>Brazil</td>\n",
       "        <td>5</td>\n",
       "        <td>427.68</td>\n",
       "        <td>85.54</td>\n",
       "        <td>7.01</td>\n",
       "    </tr>\n",
       "    <tr>\n",
       "        <td>France</td>\n",
       "        <td>5</td>\n",
       "        <td>389.07</td>\n",
       "        <td>77.81</td>\n",
       "        <td>7.78</td>\n",
       "    </tr>\n",
       "    <tr>\n",
       "        <td>Germany</td>\n",
       "        <td>4</td>\n",
       "        <td>334.62</td>\n",
       "        <td>83.66</td>\n",
       "        <td>8.16</td>\n",
       "    </tr>\n",
       "    <tr>\n",
       "        <td>Czech Republic</td>\n",
       "        <td>2</td>\n",
       "        <td>273.24</td>\n",
       "        <td>136.62</td>\n",
       "        <td>9.11</td>\n",
       "    </tr>\n",
       "    <tr>\n",
       "        <td>United Kingdom</td>\n",
       "        <td>3</td>\n",
       "        <td>245.52</td>\n",
       "        <td>81.84</td>\n",
       "        <td>8.77</td>\n",
       "    </tr>\n",
       "    <tr>\n",
       "        <td>Portugal</td>\n",
       "        <td>2</td>\n",
       "        <td>185.13</td>\n",
       "        <td>92.57</td>\n",
       "        <td>6.38</td>\n",
       "    </tr>\n",
       "    <tr>\n",
       "        <td>India</td>\n",
       "        <td>2</td>\n",
       "        <td>183.15</td>\n",
       "        <td>91.57</td>\n",
       "        <td>8.72</td>\n",
       "    </tr>\n",
       "    <tr>\n",
       "        <td>Others</td>\n",
       "        <td>15</td>\n",
       "        <td>1094.94</td>\n",
       "        <td>73.0</td>\n",
       "        <td>7.45</td>\n",
       "    </tr>\n",
       "</table>"
      ],
      "text/plain": [
       "[('USA', 13, 1040.49, 80.04, 7.94),\n",
       " ('Canada', 8, 535.59, 66.95, 7.05),\n",
       " ('Brazil', 5, 427.68, 85.54, 7.01),\n",
       " ('France', 5, 389.07, 77.81, 7.78),\n",
       " ('Germany', 4, 334.62, 83.66, 8.16),\n",
       " ('Czech Republic', 2, 273.24, 136.62, 9.11),\n",
       " ('United Kingdom', 3, 245.52, 81.84, 8.77),\n",
       " ('Portugal', 2, 185.13, 92.57, 6.38),\n",
       " ('India', 2, 183.15, 91.57, 8.72),\n",
       " ('Others', 15, 1094.94, 73.0, 7.45)]"
      ]
     },
     "execution_count": 17,
     "metadata": {},
     "output_type": "execute_result"
    }
   ],
   "source": [
    "%%sql\n",
    "WITH \n",
    "  customer_invoice AS\n",
    "    ( SELECT c.customer_id,c.country,i.invoice_id,i.total\n",
    "     FROM customer AS c\n",
    "     INNER JOIN invoice AS i\n",
    "     ON c.customer_id=i.customer_id\n",
    "    ),\n",
    "    others AS\n",
    "    ( SELECT country,\n",
    "             COUNT(DISTINCT customer_id) AS 'number_of_customers',\n",
    "             COUNT(invoice_id) AS 'number_of_invoices',\n",
    "             ROUND(SUM(total),2) AS 'total'\n",
    "             --ROUND(AVG(total),2)\n",
    "      FROM customer_invoice AS ci\n",
    "      GROUP BY country\n",
    "      HAVING COUNT(DISTINCT customer_id)=1\n",
    "    ) ,\n",
    "    others_stat AS \n",
    "    (SELECT \"Others\" AS country,\n",
    "             SUM(number_of_customers) AS 'number_of_customers',\n",
    "             SUM(total) AS 'total_sales',\n",
    "             ROUND(SUM(total)/SUM(number_of_customers),2) AS 'avg_sale_per_customer',\n",
    "             ROUND(SUM(total)/SUM(number_of_invoices),2)  AS 'avg_order_value',\n",
    "             2 AS 'rank'\n",
    "     FROM others AS o\n",
    "    ),\n",
    "        main_countries AS\n",
    "    ( SELECT country,\n",
    "             COUNT(DISTINCT customer_id) AS 'number_of_customers',\n",
    "             ROUND(SUM(total),2) AS 'total_sales',\n",
    "             ROUND(SUM(total)/COUNT(DISTINCT customer_id),2) AS 'avg_sale_per_customer',\n",
    "             ROUND(SUM(total)/COUNT(invoice_id),2)  AS 'avg_order_value',\n",
    "             1 AS 'rank'\n",
    "      FROM customer_invoice AS ci\n",
    "      GROUP BY country\n",
    "      HAVING COUNT(DISTINCT customer_id)>1\n",
    "      ORDER BY 3\n",
    "    ),\n",
    "    \n",
    "main_table AS\n",
    "(\n",
    "SELECT *\n",
    "\n",
    "FROM main_countries\n",
    "\n",
    "UNION\n",
    "\n",
    "SELECT *\n",
    "\n",
    "FROM others_stat\n",
    "\n",
    "ORDER BY 6, 3 DESC)\n",
    "\n",
    "SELECT\n",
    "country,\n",
    "number_of_customers,\n",
    "total_sales,\n",
    "avg_sale_per_customer,\n",
    "avg_order_value\n",
    "FROM main_table"
   ]
  },
  {
   "cell_type": "markdown",
   "metadata": {},
   "source": [
    "### for each country :\n",
    "\n",
    "* total number of customers\n",
    "* total value of sales\n",
    "* average value of sales per customer\n",
    "* average order value\n",
    "\n",
    "are calculated. Here countries with only one customer are collected into an \"Other\" group."
   ]
  },
  {
   "cell_type": "markdown",
   "metadata": {},
   "source": [
    "### Which artist is used in the most playlists?"
   ]
  },
  {
   "cell_type": "code",
   "execution_count": 13,
   "metadata": {
    "collapsed": false
   },
   "outputs": [
    {
     "name": "stdout",
     "output_type": "stream",
     "text": [
      "Done.\n"
     ]
    },
    {
     "data": {
      "text/html": [
       "<table>\n",
       "    <tr>\n",
       "        <th>name</th>\n",
       "        <th>Playlist_appearence</th>\n",
       "    </tr>\n",
       "    <tr>\n",
       "        <td>Iron Maiden</td>\n",
       "        <td>516</td>\n",
       "    </tr>\n",
       "    <tr>\n",
       "        <td>U2</td>\n",
       "        <td>333</td>\n",
       "    </tr>\n",
       "    <tr>\n",
       "        <td>Metallica</td>\n",
       "        <td>296</td>\n",
       "    </tr>\n",
       "    <tr>\n",
       "        <td>Led Zeppelin</td>\n",
       "        <td>252</td>\n",
       "    </tr>\n",
       "    <tr>\n",
       "        <td>Deep Purple</td>\n",
       "        <td>226</td>\n",
       "    </tr>\n",
       "    <tr>\n",
       "        <td>Lost</td>\n",
       "        <td>184</td>\n",
       "    </tr>\n",
       "    <tr>\n",
       "        <td>Pearl Jam</td>\n",
       "        <td>177</td>\n",
       "    </tr>\n",
       "    <tr>\n",
       "        <td>Eric Clapton</td>\n",
       "        <td>145</td>\n",
       "    </tr>\n",
       "    <tr>\n",
       "        <td>Faith No More</td>\n",
       "        <td>145</td>\n",
       "    </tr>\n",
       "    <tr>\n",
       "        <td>Lenny Kravitz</td>\n",
       "        <td>143</td>\n",
       "    </tr>\n",
       "</table>"
      ],
      "text/plain": [
       "[('Iron Maiden', 516),\n",
       " ('U2', 333),\n",
       " ('Metallica', 296),\n",
       " ('Led Zeppelin', 252),\n",
       " ('Deep Purple', 226),\n",
       " ('Lost', 184),\n",
       " ('Pearl Jam', 177),\n",
       " ('Eric Clapton', 145),\n",
       " ('Faith No More', 145),\n",
       " ('Lenny Kravitz', 143)]"
      ]
     },
     "execution_count": 13,
     "metadata": {},
     "output_type": "execute_result"
    }
   ],
   "source": [
    "%%sql\n",
    "WITH\n",
    "playlist_artist AS\n",
    "(SELECT pl.playlist_id,plt.track_id,ar.name\n",
    "FROM playlist AS pl\n",
    "INNER JOIN playlist_track AS plt\n",
    "ON pl.playlist_id=plt.playlist_id\n",
    "INNER JOIN track AS t\n",
    "ON plt.track_id=t.track_id\n",
    "INNER JOIN album AS a\n",
    "ON t.album_id=a.album_id\n",
    "INNER JOIN artist AS ar\n",
    "ON a.artist_id=ar.artist_id)\n",
    "\n",
    "SELECT name, count(name) AS 'Playlist_appearence'\n",
    "FROM playlist_artist\n",
    "GROUP BY name\n",
    "ORDER BY 2 DESC\n",
    "LIMIT 10;\n"
   ]
  },
  {
   "cell_type": "markdown",
   "metadata": {},
   "source": [
    "### How many tracks have been purchased vs not purchased?"
   ]
  },
  {
   "cell_type": "code",
   "execution_count": 14,
   "metadata": {
    "collapsed": false
   },
   "outputs": [
    {
     "name": "stdout",
     "output_type": "stream",
     "text": [
      "Done.\n"
     ]
    },
    {
     "data": {
      "text/html": [
       "<table>\n",
       "    <tr>\n",
       "        <th>Number_of_Tracks</th>\n",
       "        <th>not_purchased</th>\n",
       "        <th>purchased</th>\n",
       "    </tr>\n",
       "    <tr>\n",
       "        <td>3503</td>\n",
       "        <td>1697</td>\n",
       "        <td>1806</td>\n",
       "    </tr>\n",
       "</table>"
      ],
      "text/plain": [
       "[(3503, 1697, 1806)]"
      ]
     },
     "execution_count": 14,
     "metadata": {},
     "output_type": "execute_result"
    }
   ],
   "source": [
    "%%sql\n",
    "WITH\n",
    "track_sold AS\n",
    "(\n",
    "SELECT t.track_id, count(il.invoice_line_id) AS 'times_sold'\n",
    "FROM track AS t \n",
    "LEFT JOIN invoice_line AS il\n",
    "ON il.track_id=t.track_id\n",
    "GROUP BY 1\n",
    "ORDER BY 2 DESC)\n",
    "\n",
    "SELECT COUNT(*) AS 'Number_of_Tracks',\n",
    "       (SELECT COUNT(*)\n",
    "                      FROM track_sold\n",
    "                      WHERE times_sold=0) AS 'not_purchased',\n",
    "      (SELECT COUNT(*)\n",
    "                      FROM track_sold\n",
    "                      WHERE times_sold!=0) AS 'purchased'\n",
    "FROM track_sold;"
   ]
  },
  {
   "cell_type": "markdown",
   "metadata": {},
   "source": [
    "### Is the length of tracks in the store reflective of their sales popularity?"
   ]
  },
  {
   "cell_type": "code",
   "execution_count": 15,
   "metadata": {
    "collapsed": false
   },
   "outputs": [
    {
     "name": "stdout",
     "output_type": "stream",
     "text": [
      "Done.\n"
     ]
    },
    {
     "data": {
      "text/html": [
       "<table>\n",
       "    <tr>\n",
       "        <th>range</th>\n",
       "        <th>sales</th>\n",
       "    </tr>\n",
       "    <tr>\n",
       "        <td>long</td>\n",
       "        <td>1023</td>\n",
       "    </tr>\n",
       "    <tr>\n",
       "        <td>medium</td>\n",
       "        <td>2936</td>\n",
       "    </tr>\n",
       "    <tr>\n",
       "        <td>short</td>\n",
       "        <td>798</td>\n",
       "    </tr>\n",
       "</table>"
      ],
      "text/plain": [
       "[('long', 1023), ('medium', 2936), ('short', 798)]"
      ]
     },
     "execution_count": 15,
     "metadata": {},
     "output_type": "execute_result"
    }
   ],
   "source": [
    "%%sql\n",
    "WITH\n",
    "track_len AS\n",
    "(SELECT track_id,\n",
    "       ROUND(milliseconds/60000.0,1) AS 'length(sec)',\n",
    "       CASE\n",
    "            WHEN (milliseconds/60000.0)<3 THEN 'short'\n",
    "            WHEN (milliseconds/60000.0)<5 THEN 'medium'\n",
    "            ELSE 'long'\n",
    "        END AS 'range'    \n",
    "FROM track),\n",
    "\n",
    "track_sales AS\n",
    "(   SELECT tl.range, COUNT(il.track_id) AS 'sales'\n",
    "    FROM track_len AS tl\n",
    "    LEFT JOIN invoice_line AS il\n",
    "    ON tl.track_id=il.track_id\n",
    "    GROUP BY tl.range\n",
    ")\n",
    "\n",
    "\n",
    "\n",
    "SELECT *\n",
    "FROM track_sales;\n",
    "\n"
   ]
  },
  {
   "cell_type": "markdown",
   "metadata": {},
   "source": [
    "From the table above, one easily can conclude that medium length tracks are more popular."
   ]
  },
  {
   "cell_type": "markdown",
   "metadata": {},
   "source": [
    "### Do  media types have an effect on popularity?"
   ]
  },
  {
   "cell_type": "code",
   "execution_count": 22,
   "metadata": {
    "collapsed": false
   },
   "outputs": [
    {
     "name": "stdout",
     "output_type": "stream",
     "text": [
      "Done.\n"
     ]
    },
    {
     "data": {
      "text/html": [
       "<table>\n",
       "    <tr>\n",
       "        <th>media_type</th>\n",
       "        <th>number_of_tracks</th>\n",
       "        <th>number_of_sales</th>\n",
       "        <th>sales_media_type_ratio</th>\n",
       "    </tr>\n",
       "    <tr>\n",
       "        <td>AAC audio file</td>\n",
       "        <td>11</td>\n",
       "        <td>21</td>\n",
       "        <td>1.91</td>\n",
       "    </tr>\n",
       "    <tr>\n",
       "        <td>MPEG audio file</td>\n",
       "        <td>3034</td>\n",
       "        <td>4259</td>\n",
       "        <td>1.4</td>\n",
       "    </tr>\n",
       "    <tr>\n",
       "        <td>Protected AAC audio file</td>\n",
       "        <td>237</td>\n",
       "        <td>439</td>\n",
       "        <td>1.85</td>\n",
       "    </tr>\n",
       "    <tr>\n",
       "        <td>Protected MPEG-4 video file</td>\n",
       "        <td>214</td>\n",
       "        <td>3</td>\n",
       "        <td>0.01</td>\n",
       "    </tr>\n",
       "    <tr>\n",
       "        <td>Purchased AAC audio file</td>\n",
       "        <td>7</td>\n",
       "        <td>35</td>\n",
       "        <td>5.0</td>\n",
       "    </tr>\n",
       "</table>"
      ],
      "text/plain": [
       "[('AAC audio file', 11, 21, 1.91),\n",
       " ('MPEG audio file', 3034, 4259, 1.4),\n",
       " ('Protected AAC audio file', 237, 439, 1.85),\n",
       " ('Protected MPEG-4 video file', 214, 3, 0.01),\n",
       " ('Purchased AAC audio file', 7, 35, 5.0)]"
      ]
     },
     "execution_count": 22,
     "metadata": {},
     "output_type": "execute_result"
    }
   ],
   "source": [
    "%%sql\n",
    "\n",
    "WITH\n",
    "track_type AS\n",
    "(\n",
    "SELECT  t.track_id,mt.name\n",
    "FROM track AS t\n",
    "INNER JOIN media_type AS mt\n",
    "ON t.media_type_id=mt.media_type_id\n",
    "),\n",
    "\n",
    "track_type_numbers AS\n",
    "(\n",
    "    SELECT name,COUNT(track_id) AS 'track'\n",
    "    FROM track_type AS tt\n",
    "    GROUP BY name\n",
    "),\n",
    "\n",
    "track_sales_protected AS\n",
    "(   SELECT tt.name,\n",
    "    COUNT(il.invoice_line_id) AS 'sales'\n",
    "    FROM track_type AS tt\n",
    "    LEFT JOIN invoice_line AS il\n",
    "    ON tt.track_id=il.track_id\n",
    "    GROUP BY tt.name\n",
    ")\n",
    "\n",
    "SELECT \n",
    "    ttn.name AS 'media_type',\n",
    "    ttn.track AS 'number_of_tracks',\n",
    "    tsp.sales AS 'number_of_sales',\n",
    "    ROUND(CAST(tsp.sales AS float)/ttn.track,2) AS 'sales_media_type_ratio'\n",
    "FROM track_type_numbers AS ttn\n",
    "INNER JOIN track_sales_protected AS tsp\n",
    "ON ttn.name=tsp.name"
   ]
  },
  {
   "cell_type": "markdown",
   "metadata": {},
   "source": [
    "Protected MPEG-4 video file media category has the worst sale statistics\n",
    "and Purchased AAC audio file media type has best sale records.\n",
    "We recommend the company reduce former track types and offer more the latter kind of tracks."
   ]
  },
  {
   "cell_type": "code",
   "execution_count": null,
   "metadata": {
    "collapsed": true
   },
   "outputs": [],
   "source": []
  }
 ],
 "metadata": {
  "kernelspec": {
   "display_name": "Python 3",
   "language": "python",
   "name": "python3"
  },
  "language_info": {
   "codemirror_mode": {
    "name": "ipython",
    "version": 3
   },
   "file_extension": ".py",
   "mimetype": "text/x-python",
   "name": "python",
   "nbconvert_exporter": "python",
   "pygments_lexer": "ipython3",
   "version": "3.4.3"
  }
 },
 "nbformat": 4,
 "nbformat_minor": 2
}
